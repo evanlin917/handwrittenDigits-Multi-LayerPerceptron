{
  "nbformat": 4,
  "nbformat_minor": 0,
  "metadata": {
    "colab": {
      "name": "handwrittenDigits-Multi-LayerPerceptron.ipynb",
      "provenance": [],
      "authorship_tag": "ABX9TyP4J09VHJw6iL0tZUVAw4mM",
      "include_colab_link": true
    },
    "kernelspec": {
      "name": "python3",
      "display_name": "Python 3"
    },
    "language_info": {
      "name": "python"
    }
  },
  "cells": [
    {
      "cell_type": "markdown",
      "metadata": {
        "id": "view-in-github",
        "colab_type": "text"
      },
      "source": [
        "<a href=\"https://colab.research.google.com/github/evanlin917/handwrittenDigits-Multi-LayerPerceptron/blob/main/handwrittenDigits_Multi_LayerPerceptron.ipynb\" target=\"_parent\"><img src=\"https://colab.research.google.com/assets/colab-badge.svg\" alt=\"Open In Colab\"/></a>"
      ]
    },
    {
      "cell_type": "code",
      "execution_count": 29,
      "metadata": {
        "colab": {
          "base_uri": "https://localhost:8080/",
          "height": 1000
        },
        "id": "-Sl_vILOO1eI",
        "outputId": "709a8991-d96f-4c34-ae37-621c7665ac14"
      },
      "outputs": [
        {
          "output_type": "stream",
          "name": "stdout",
          "text": [
            "(360, 64) (360,)\n",
            "[ 0.  0.  5. 13.  9.  1.  0.  0.  0.  0. 13. 15. 10. 15.  5.  0.  0.  3.\n",
            " 15.  2.  0. 11.  8.  0.  0.  4. 12.  0.  0.  8.  8.  0.  0.  5.  8.  0.\n",
            "  0.  9.  8.  0.  0.  4. 11.  0.  1. 12.  7.  0.  0.  2. 14.  5. 10. 12.\n",
            "  0.  0.  0.  0.  6. 13. 10.  0.  0.  0.]\n",
            "0\n",
            "[[ 0.  0.  5. 13.  9.  1.  0.  0.]\n",
            " [ 0.  0. 13. 15. 10. 15.  5.  0.]\n",
            " [ 0.  3. 15.  2.  0. 11.  8.  0.]\n",
            " [ 0.  4. 12.  0.  0.  8.  8.  0.]\n",
            " [ 0.  5.  8.  0.  0.  9.  8.  0.]\n",
            " [ 0.  4. 11.  0.  1. 12.  7.  0.]\n",
            " [ 0.  2. 14.  5. 10. 12.  0.  0.]\n",
            " [ 0.  0.  6. 13. 10.  0.  0.  0.]]\n"
          ]
        },
        {
          "output_type": "display_data",
          "data": {
            "text/plain": [
              "<Figure size 288x288 with 1 Axes>"
            ],
            "image/png": "[encoded data removed]"
          },
          "metadata": {}
        },
        {
          "output_type": "display_data",
          "data": {
            "text/plain": [
              "<Figure size 432x288 with 0 Axes>"
            ]
          },
          "metadata": {}
        },
        {
          "output_type": "display_data",
          "data": {
            "text/plain": [
              "<Figure size 288x288 with 1 Axes>"
            ],
            "image/png": "[encoded data removed]"
          },
          "metadata": {}
        },
        {
          "output_type": "stream",
          "name": "stdout",
          "text": [
            "[0]\n"
          ]
        },
        {
          "output_type": "display_data",
          "data": {
            "text/plain": [
              "<Figure size 432x288 with 0 Axes>"
            ]
          },
          "metadata": {}
        },
        {
          "output_type": "display_data",
          "data": {
            "text/plain": [
              "<Figure size 288x288 with 1 Axes>"
            ],
            "image/png": "[encoded data removed]"
          },
          "metadata": {}
        },
        {
          "output_type": "stream",
          "name": "stdout",
          "text": [
            "[1]\n",
            "1.0\n",
            "0.96\n"
          ]
        },
        {
          "output_type": "display_data",
          "data": {
            "text/plain": [
              "<Figure size 432x288 with 0 Axes>"
            ]
          },
          "metadata": {}
        },
        {
          "output_type": "display_data",
          "data": {
            "text/plain": [
              "<Figure size 288x288 with 1 Axes>"
            ],
            "image/png": "[encoded data removed]"
          },
          "metadata": {}
        },
        {
          "output_type": "stream",
          "name": "stdout",
          "text": [
            "true value:  4\n",
            "predicted value:  9\n",
            "(70000, 784) (70000,)\n",
            "pixel1      0.0\n",
            "pixel2      0.0\n",
            "pixel3      0.0\n",
            "pixel4      0.0\n",
            "pixel5      0.0\n",
            "           ... \n",
            "pixel780    0.0\n",
            "pixel781    0.0\n",
            "pixel782    0.0\n",
            "pixel783    0.0\n",
            "pixel784    0.0\n",
            "Length: 784, dtype: float64 pixel1       0.0\n",
            "pixel2       0.0\n",
            "pixel3       0.0\n",
            "pixel4       0.0\n",
            "pixel5       0.0\n",
            "            ... \n",
            "pixel780    62.0\n",
            "pixel781     0.0\n",
            "pixel782     0.0\n",
            "pixel783     0.0\n",
            "pixel784     0.0\n",
            "Length: 784, dtype: float64\n",
            "0    5\n",
            "1    0\n",
            "2    4\n",
            "3    1\n",
            "4    9\n",
            "Name: class, dtype: category\n",
            "Categories (10, object): ['0', '1', '2', '3', ..., '6', '7', '8', '9']\n",
            "[array([[-0.01115556, -0.08262716,  0.00865576, -0.01127277, -0.01387924,\n",
            "        -0.02957125],\n",
            "       [-0.05147731,  0.02078795, -0.03491854, -0.04064009,  0.02111263,\n",
            "         0.00507923],\n",
            "       [-0.06368971,  0.00236655, -0.05499954,  0.04973157,  0.06169498,\n",
            "        -0.00100447],\n",
            "       ...,\n",
            "       [ 0.03318767,  0.03072576,  0.04947705, -0.07695913, -0.02204118,\n",
            "        -0.0029547 ],\n",
            "       [ 0.03754485,  0.02460143,  0.03225053,  0.04285274, -0.07510535,\n",
            "        -0.05427325],\n",
            "       [-0.06503662, -0.07023565, -0.02863197, -0.01949462,  0.07608851,\n",
            "        -0.0570695 ]]), array([[-0.38731785,  0.20377325, -0.48778341, -0.00673285, -0.41348   ,\n",
            "        -0.28470059,  0.45044813,  0.48848623,  0.28780656, -0.11266403],\n",
            "       [-0.20924461, -0.20030055,  0.10316523, -0.35674758, -0.29215165,\n",
            "        -0.42082646,  0.07365005, -0.47306119, -0.17220241, -0.20582724],\n",
            "       [-0.08915046,  0.00303789,  0.11781092, -0.39061898, -0.05978099,\n",
            "        -0.44114375,  0.27039583,  0.22038501,  0.24790753, -0.03164999],\n",
            "       [ 0.26623589, -0.57384736, -0.45315437, -0.13937406,  0.4278539 ,\n",
            "         0.37481957, -0.4316916 , -0.39287163,  0.25014059, -0.38332847],\n",
            "       [-0.46878159,  0.5522512 , -0.60319101,  0.24489804,  0.28209833,\n",
            "         0.58489385,  0.3540769 , -0.32265894,  0.45252806, -0.42821528],\n",
            "       [ 0.08316116,  0.29677976, -0.44986131,  0.21187577, -0.50682619,\n",
            "         0.07104689, -0.55187564, -0.12656998, -0.34565472,  0.06064578]])]\n",
            "2\n",
            "(784, 6)\n"
          ]
        },
        {
          "output_type": "error",
          "ename": "AttributeError",
          "evalue": "ignored",
          "traceback": [
            "\u001b[0;31m---------------------------------------------------------------------------\u001b[0m",
            "\u001b[0;31mAttributeError\u001b[0m                            Traceback (most recent call last)",
            "\u001b[0;32m<ipython-input-29-4ae5d24f3bd2>\u001b[0m in \u001b[0;36m<module>\u001b[0;34m()\u001b[0m\n\u001b[1;32m    101\u001b[0m \u001b[0mfig\u001b[0m\u001b[0;34m,\u001b[0m \u001b[0maxes\u001b[0m \u001b[0;34m=\u001b[0m \u001b[0mplt\u001b[0m\u001b[0;34m.\u001b[0m\u001b[0msubplots\u001b[0m\u001b[0;34m(\u001b[0m\u001b[0;36m2\u001b[0m\u001b[0;34m,\u001b[0m \u001b[0;36m3\u001b[0m\u001b[0;34m,\u001b[0m \u001b[0mfigsize\u001b[0m \u001b[0;34m=\u001b[0m \u001b[0;34m(\u001b[0m\u001b[0;36m5\u001b[0m\u001b[0;34m,\u001b[0m \u001b[0;36m4\u001b[0m\u001b[0;34m)\u001b[0m\u001b[0;34m)\u001b[0m\u001b[0;34m\u001b[0m\u001b[0;34m\u001b[0m\u001b[0m\n\u001b[1;32m    102\u001b[0m \u001b[0;32mfor\u001b[0m \u001b[0mi\u001b[0m\u001b[0;34m,\u001b[0m \u001b[0max\u001b[0m \u001b[0;32min\u001b[0m \u001b[0menumerate\u001b[0m\u001b[0;34m(\u001b[0m\u001b[0maxes\u001b[0m\u001b[0;34m.\u001b[0m\u001b[0mravel\u001b[0m\u001b[0;34m(\u001b[0m\u001b[0;34m)\u001b[0m\u001b[0;34m)\u001b[0m\u001b[0;34m:\u001b[0m\u001b[0;34m\u001b[0m\u001b[0;34m\u001b[0m\u001b[0m\n\u001b[0;32m--> 103\u001b[0;31m   \u001b[0mcoef\u001b[0m \u001b[0;34m=\u001b[0m \u001b[0mopen_mlp\u001b[0m\u001b[0;34m.\u001b[0m\u001b[0mcoef_\u001b[0m\u001b[0;34m[\u001b[0m\u001b[0;36m0\u001b[0m\u001b[0;34m]\u001b[0m\u001b[0;34m[\u001b[0m\u001b[0;34m:\u001b[0m\u001b[0;34m,\u001b[0m \u001b[0mi\u001b[0m\u001b[0;34m]\u001b[0m\u001b[0;34m\u001b[0m\u001b[0;34m\u001b[0m\u001b[0m\n\u001b[0m\u001b[1;32m    104\u001b[0m   \u001b[0max\u001b[0m\u001b[0;34m.\u001b[0m\u001b[0mmatshow\u001b[0m\u001b[0;34m(\u001b[0m\u001b[0mcoef\u001b[0m\u001b[0;34m.\u001b[0m\u001b[0mreshape\u001b[0m\u001b[0;34m(\u001b[0m\u001b[0;36m28\u001b[0m\u001b[0;34m,\u001b[0m \u001b[0;36m28\u001b[0m\u001b[0;34m)\u001b[0m\u001b[0;34m,\u001b[0m \u001b[0mcmap\u001b[0m \u001b[0;34m=\u001b[0m \u001b[0mplt\u001b[0m\u001b[0;34m.\u001b[0m\u001b[0mcm\u001b[0m\u001b[0;34m.\u001b[0m\u001b[0mgray\u001b[0m\u001b[0;34m)\u001b[0m\u001b[0;34m\u001b[0m\u001b[0;34m\u001b[0m\u001b[0m\n\u001b[1;32m    105\u001b[0m   \u001b[0max\u001b[0m\u001b[0;34m.\u001b[0m\u001b[0mset_xticks\u001b[0m\u001b[0;34m(\u001b[0m\u001b[0;34m(\u001b[0m\u001b[0;34m)\u001b[0m\u001b[0;34m)\u001b[0m\u001b[0;34m\u001b[0m\u001b[0;34m\u001b[0m\u001b[0m\n",
            "\u001b[0;31mAttributeError\u001b[0m: 'MLPClassifier' object has no attribute 'coef_'"
          ]
        },
        {
          "output_type": "display_data",
          "data": {
            "text/plain": [
              "<Figure size 432x288 with 0 Axes>"
            ]
          },
          "metadata": {}
        },
        {
          "output_type": "display_data",
          "data": {
            "text/plain": [
              "<Figure size 360x288 with 6 Axes>"
            ],
            "image/png": "[encoded data removed]"
          },
          "metadata": {
            "needs_background": "light"
          }
        }
      ],
      "source": [
        "import numpy as np\n",
        "import pandas as pd\n",
        "import matplotlib.pyplot as plt\n",
        "import sklearn\n",
        "\n",
        "#loading the MNIST database of handwritten digits directly from scikit-learn\n",
        "from sklearn.datasets import load_digits\n",
        "\n",
        "#defining the feature matrix and the target array\n",
        "x, y = load_digits(n_class = 2, return_X_y = True)\n",
        "\n",
        "#finding the dimensions of the feature matrix and the target array\n",
        "print(x.shape, y.shape)\n",
        "print(x[0])\n",
        "print(y[0])\n",
        "print(x[0].reshape(8, 8))\n",
        "\n",
        "#drawing the image of the data in the data set imported\n",
        "plt.matshow(x[0].reshape(8, 8), cmap = plt.cm.gray)\n",
        "plt.xticks(())\n",
        "plt.yticks(())\n",
        "plt.show()\n",
        "plt.savefig(\"digit.png\")\n",
        "\n",
        "#splitting the data set into a training and test data set\n",
        "from sklearn.model_selection import train_test_split\n",
        "x_train, x_test, y_train, y_test = train_test_split(x, y, random_state = 2)\n",
        "\n",
        "#creating/training the neural network model in particular, the multi-layer perceptron\n",
        "from sklearn.neural_network import MLPClassifier\n",
        "mlp = MLPClassifier()\n",
        "mlp.fit(x_train, y_train)\n",
        "\n",
        "#testing the MLP model against the first data point of the test data set\n",
        "x_test_one = x_test[0]\n",
        "plt.matshow(x_test_one.reshape(8, 8), cmap = plt.cm.gray)\n",
        "plt.xticks(())\n",
        "plt.yticks(())\n",
        "plt.show()\n",
        "plt.savefig(\"first_test_digit.png\")\n",
        "print(mlp.predict([x_test_one]))\n",
        "\n",
        "#testing the MLP model against the second data point of the test data set\n",
        "x_test_two = x_test[1]\n",
        "plt.matshow(x_test_two.reshape(8, 8), cmap = plt.cm. gray)\n",
        "plt.xticks(())\n",
        "plt.yticks(())\n",
        "plt.show()\n",
        "plt.savefig(\"second_test_digit.png\")\n",
        "print(mlp.predict([x_test_two]))\n",
        "\n",
        "#seeing the model's accuracy for the whole test data set\n",
        "print(mlp.score(x_test, y_test))\n",
        "\n",
        "#creating a new MLP model to distinguish all 10 single digits from the data set\n",
        "new_x, new_y = load_digits(return_X_y = True)\n",
        "new_x_train, new_x_test, new_y_train, new_y_test = train_test_split(new_x, new_y, random_state = 2)\n",
        "new_mlp = MLPClassifier(random_state = 2)\n",
        "new_mlp.fit(new_x_train, new_y_train)\n",
        "\n",
        "#finding the accuracy of the newly created MLP model\n",
        "print(new_mlp.score(new_x_test, new_y_test))\n",
        "\n",
        "#using a numpy mask to pull out the data points in the test data set that the newly created MLP model predicted as incorrect\n",
        "new_y_pred = new_mlp.predict(new_x_test)\n",
        "incorrect = new_x_test[new_y_pred != new_y_test]\n",
        "incorrect_true = new_y_test[new_y_pred != new_y_test]\n",
        "incorrect_pred = new_y_pred[new_y_pred != new_y_test]\n",
        "\n",
        "#analyzing the first image predicted incorrectly\n",
        "j = 0\n",
        "plt.matshow(incorrect[j].reshape(8, 8), cmap = plt.cm.gray)\n",
        "plt.xticks(())\n",
        "plt.yticks(())\n",
        "plt.show()\n",
        "plt.savefig(\"first_digit_predicted_incorrect.png\")\n",
        "print(\"true value: \", incorrect_true[j])\n",
        "print(\"predicted value: \", incorrect_pred[j])\n",
        "\n",
        "#import digit data set from the OpenML database\n",
        "from sklearn.datasets import fetch_openml\n",
        "\n",
        "#defining the feature matrix and the target array for the Open data set\n",
        "open_x, open_y = fetch_openml('mnist_784', version = 1, return_X_y = True)\n",
        "\n",
        "#looking at the dimensions of the newly made feature matrix and target array\n",
        "print(open_x.shape, open_y.shape)\n",
        "print(np.min(open_x), np.max(open_x))\n",
        "print(open_y[0 : 5])\n",
        "\n",
        "#creating a MLP model to work upon the Open data set\n",
        "open_mlp = MLPClassifier(hidden_layer_sizes = (6, ), max_iter = 200, alpha = 1e-4, solver = 'sgd', random_state = 2)\n",
        "open_mlp.fit(open_x, open_y)\n",
        "\n",
        "#looking at the open_MLP coefficients\n",
        "print(open_mlp.coefs_)\n",
        "print(len(open_mlp.coefs_))\n",
        "print(open_mlp.coefs_[0].shape)\n",
        "\n",
        "#visualizing the hidden layers of the Open MLP model\n",
        "fig, axes = plt.subplots(2, 3, figsize = (5, 4))\n",
        "for i, ax in enumerate(axes.ravel()):\n",
        "  coef = open_mlp.coef_[0][:, i]\n",
        "  ax.matshow(coef.reshape(28, 28), cmap = plt.cm.gray)\n",
        "  ax.set_xticks(())\n",
        "  ax.set_yticks(())\n",
        "  ax.set_title(i + 1)\n",
        "plt.show()\n",
        "plt.savefig(\"openMLP_hidden_layers.png\")"
      ]
    }
  ]
}